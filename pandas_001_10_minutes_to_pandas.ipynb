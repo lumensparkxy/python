{
  "nbformat": 4,
  "nbformat_minor": 0,
  "metadata": {
    "colab": {
      "name": "pandas_001_10_minutes_to_pandas.ipynb",
      "private_outputs": true,
      "provenance": [],
      "collapsed_sections": [
        "PHF4i8gyMgx4",
        "AtIzurYmMuoW",
        "L3wHe-18RDZv",
        "pial1R9ZRHIS",
        "TdD3yy3NRZrg",
        "x1LtWM8OTKOm",
        "6qiB-4SAaK3D",
        "-I4idMt_xSLf",
        "Vc0biaBF2s4X",
        "O6DtpTF43I5D"
      ],
      "authorship_tag": "ABX9TyPV2IWJl4esHUczvD295Jux",
      "include_colab_link": true
    },
    "kernelspec": {
      "name": "python3",
      "display_name": "Python 3"
    },
    "language_info": {
      "name": "python"
    }
  },
  "cells": [
    {
      "cell_type": "markdown",
      "metadata": {
        "id": "view-in-github",
        "colab_type": "text"
      },
      "source": [
        "<a href=\"https://colab.research.google.com/github/maswadkar/python/blob/master/pandas_001_10_minutes_to_pandas.ipynb\" target=\"_parent\"><img src=\"https://colab.research.google.com/assets/colab-badge.svg\" alt=\"Open In Colab\"/></a>"
      ]
    },
    {
      "cell_type": "markdown",
      "source": [
        "#Object creation"
      ],
      "metadata": {
        "id": "PHF4i8gyMgx4"
      }
    },
    {
      "cell_type": "code",
      "execution_count": null,
      "metadata": {
        "id": "DzPQyXT_-EBU"
      },
      "outputs": [],
      "source": [
        "import numpy as np\n",
        "import pandas as pd\n",
        "pd.__version__"
      ]
    },
    {
      "cell_type": "code",
      "source": [
        "#Creating a Series by passing a list of values, letting pandas create a default integer index:\n",
        "s = pd.Series([1,2,np.nan,4])\n",
        "s"
      ],
      "metadata": {
        "id": "J-1MUtKY-F4A"
      },
      "execution_count": null,
      "outputs": []
    },
    {
      "cell_type": "code",
      "source": [
        "#Creating a DataFrame by passing a NumPy array, with a datetime index and labeled columns:\n",
        "dates = pd.date_range(start='20000101',periods=6,)\n",
        "dates\n"
      ],
      "metadata": {
        "id": "qJOAPDUUIWfa"
      },
      "execution_count": null,
      "outputs": []
    },
    {
      "cell_type": "code",
      "source": [
        "df = pd.DataFrame(np.random.randn(6,4),index=dates,columns=['A','B','C','D',])\n",
        "df"
      ],
      "metadata": {
        "id": "PQgErp5VJcKj"
      },
      "execution_count": null,
      "outputs": []
    },
    {
      "cell_type": "code",
      "source": [
        "#Creating a DataFrame by passing a dictionary of objects that can be converted into a series-like structure:\n",
        "df2 = pd.DataFrame({'A':1,\n",
        "                   'B':pd.Timestamp('20220202'),\n",
        "                   'C':pd.Series(1, index=list(range(4)), dtype=\"float32\"),\n",
        "                   'D':np.array([3]*4,dtype='float32'),\n",
        "                   'E':pd.Categorical(['test','train','test','train']),\n",
        "                   'F':'foo'\n",
        "                   })\n",
        "df2"
      ],
      "metadata": {
        "id": "EKmq6UHPKX7y"
      },
      "execution_count": null,
      "outputs": []
    },
    {
      "cell_type": "code",
      "source": [
        "#The columns of the resulting DataFrame have different dtypes:\n",
        "df2.dtypes"
      ],
      "metadata": {
        "id": "TTtneCfnL7aA"
      },
      "execution_count": null,
      "outputs": []
    },
    {
      "cell_type": "markdown",
      "source": [
        "#Viewing data"
      ],
      "metadata": {
        "id": "AtIzurYmMuoW"
      }
    },
    {
      "cell_type": "code",
      "source": [
        "#Here is how to view the top and bottom rows of the frame:\n",
        "df.head()"
      ],
      "metadata": {
        "id": "jZns2EOEMWDT"
      },
      "execution_count": null,
      "outputs": []
    },
    {
      "cell_type": "code",
      "source": [
        "df.tail(3)"
      ],
      "metadata": {
        "id": "XlXmX0CHMsme"
      },
      "execution_count": null,
      "outputs": []
    },
    {
      "cell_type": "code",
      "source": [
        "#Display the index, columns:\n",
        "df.index"
      ],
      "metadata": {
        "id": "NYVuQuF7M6M5"
      },
      "execution_count": null,
      "outputs": []
    },
    {
      "cell_type": "code",
      "source": [
        "df.columns"
      ],
      "metadata": {
        "id": "Hsj7Y7qJNC4B"
      },
      "execution_count": null,
      "outputs": []
    },
    {
      "cell_type": "markdown",
      "source": [
        " [DataFrame.to_numpy()](https://pandas.pydata.org/docs/reference/api/pandas.DataFrame.to_numpy.html#pandas.DataFrame.to_numpy) gives a NumPy representation of the underlying data. Note that this can be an expensive operation when your DataFrame has columns with different data types, which comes down to a fundamental difference between pandas and NumPy: NumPy arrays have one dtype for the entire array, while pandas DataFrames have one dtype per column. When you call DataFrame.to_numpy(), pandas will find the NumPy dtype that can hold all of the dtypes in the DataFrame. This may end up being object, which requires casting every value to a Python object."
      ],
      "metadata": {
        "id": "D3bFCaTmNZQ4"
      }
    },
    {
      "cell_type": "code",
      "source": [
        "#For df, our DataFrame of all floating-point values, DataFrame.to_numpy() is fast and doesn’t require copying data:\n",
        "df.to_numpy()"
      ],
      "metadata": {
        "id": "z0HyfXcuNEwo"
      },
      "execution_count": null,
      "outputs": []
    },
    {
      "cell_type": "code",
      "source": [
        "#For df2, the DataFrame with multiple dtypes, DataFrame.to_numpy() is relatively expensive:\n",
        "df2.to_numpy()"
      ],
      "metadata": {
        "id": "qPmHTRdYNwYZ"
      },
      "execution_count": null,
      "outputs": []
    },
    {
      "cell_type": "code",
      "source": [
        "#describe() shows a quick statistic summary of your data:\n",
        "df.describe()"
      ],
      "metadata": {
        "id": "ZPWVS-I9N5JG"
      },
      "execution_count": null,
      "outputs": []
    },
    {
      "cell_type": "code",
      "source": [
        "#Transposing your data:\n",
        "df.T"
      ],
      "metadata": {
        "id": "S-zoyBpKOAeb"
      },
      "execution_count": null,
      "outputs": []
    },
    {
      "cell_type": "code",
      "source": [
        "#Sorting by an axis:\n",
        "df.sort_index(axis=1,ascending=False)"
      ],
      "metadata": {
        "id": "OF_zDKwTOF6f"
      },
      "execution_count": null,
      "outputs": []
    },
    {
      "cell_type": "code",
      "source": [
        "#Sorting by values:\n",
        "df.sort_values(by='B',ascending=False)"
      ],
      "metadata": {
        "id": "GrSoPkYgOaBC"
      },
      "execution_count": null,
      "outputs": []
    },
    {
      "cell_type": "code",
      "source": [
        ""
      ],
      "metadata": {
        "id": "GXFrz5fWOtaO"
      },
      "execution_count": null,
      "outputs": []
    },
    {
      "cell_type": "markdown",
      "source": [
        "#Selection"
      ],
      "metadata": {
        "id": "L3wHe-18RDZv"
      }
    },
    {
      "cell_type": "markdown",
      "source": [
        "## Getting"
      ],
      "metadata": {
        "id": "pial1R9ZRHIS"
      }
    },
    {
      "cell_type": "code",
      "source": [
        "#Selecting a single column, which yields a Series, equivalent to df.A:\n",
        "df['A']"
      ],
      "metadata": {
        "id": "8O3c_RyqRE2c"
      },
      "execution_count": null,
      "outputs": []
    },
    {
      "cell_type": "code",
      "source": [
        "#Selecting via [], which slices the rows:\n",
        "df[0:3]"
      ],
      "metadata": {
        "id": "-4SXw8RzRNqa"
      },
      "execution_count": null,
      "outputs": []
    },
    {
      "cell_type": "markdown",
      "source": [
        "## Selection by label"
      ],
      "metadata": {
        "id": "TdD3yy3NRZrg"
      }
    },
    {
      "cell_type": "code",
      "source": [
        "#For getting a cross section using a label:\n",
        "df.loc[dates[0]]"
      ],
      "metadata": {
        "id": "igZ8VnYsRULW"
      },
      "execution_count": null,
      "outputs": []
    },
    {
      "cell_type": "code",
      "source": [
        "#Selecting on a multi-axis by label:\n",
        "df.loc[:,['A','C']]"
      ],
      "metadata": {
        "id": "yk-0Xx8WRoAe"
      },
      "execution_count": null,
      "outputs": []
    },
    {
      "cell_type": "code",
      "source": [
        "#Showing label slicing, both endpoints are included:\n",
        "df.loc['2000-01-02':'2000-01-05',['A','C']]"
      ],
      "metadata": {
        "id": "nxXGSS-4R4_5"
      },
      "execution_count": null,
      "outputs": []
    },
    {
      "cell_type": "code",
      "source": [
        "#Reduction in the dimensions of the returned object:\n",
        "df.loc['2000-01-02',['A','C']]"
      ],
      "metadata": {
        "id": "xOe-mddOSMnT"
      },
      "execution_count": null,
      "outputs": []
    },
    {
      "cell_type": "code",
      "source": [
        "#For getting a scalar value:\n",
        "df.loc[dates[0],'D']"
      ],
      "metadata": {
        "id": "SUkIQgxESWlB"
      },
      "execution_count": null,
      "outputs": []
    },
    {
      "cell_type": "code",
      "source": [
        "#For getting fast access to a scalar (equivalent to the prior method):\n",
        "df.at[dates[0],'B']"
      ],
      "metadata": {
        "id": "Ogn49KyWSfar"
      },
      "execution_count": null,
      "outputs": []
    },
    {
      "cell_type": "code",
      "source": [
        ""
      ],
      "metadata": {
        "id": "S427WFDnS-VU"
      },
      "execution_count": null,
      "outputs": []
    },
    {
      "cell_type": "markdown",
      "source": [
        "##Selection by position"
      ],
      "metadata": {
        "id": "x1LtWM8OTKOm"
      }
    },
    {
      "cell_type": "code",
      "source": [
        "#Select via the position of the passed integers:\n",
        "df.iloc[3]"
      ],
      "metadata": {
        "id": "DGuAJILTTLJ7"
      },
      "execution_count": null,
      "outputs": []
    },
    {
      "cell_type": "code",
      "source": [
        "#By integer slices, acting similar to NumPy/Python:\n",
        "df.iloc[0:2,1:3]"
      ],
      "metadata": {
        "id": "7oLl1me0TQIB"
      },
      "execution_count": null,
      "outputs": []
    },
    {
      "cell_type": "code",
      "source": [
        "#By lists of integer position locations, similar to the NumPy/Python style:\n",
        "df.iloc[[1,5],[0,2]]"
      ],
      "metadata": {
        "id": "yaN133mZZW3v"
      },
      "execution_count": null,
      "outputs": []
    },
    {
      "cell_type": "code",
      "source": [
        "#For slicing rows explicitly:\n",
        "df.iloc[3:4,:]"
      ],
      "metadata": {
        "id": "ifMvyQQhZjO9"
      },
      "execution_count": null,
      "outputs": []
    },
    {
      "cell_type": "code",
      "source": [
        "#For slicing columns explicitly:\n",
        "df.iloc[:,2:3]"
      ],
      "metadata": {
        "id": "W8FAt-Z9Z1qL"
      },
      "execution_count": null,
      "outputs": []
    },
    {
      "cell_type": "code",
      "source": [
        "#For getting a value explicitly:\n",
        "df.iloc[2,2]"
      ],
      "metadata": {
        "id": "_30x0wrtZ-g3"
      },
      "execution_count": null,
      "outputs": []
    },
    {
      "cell_type": "markdown",
      "source": [
        "##Boolean indexing"
      ],
      "metadata": {
        "id": "6qiB-4SAaK3D"
      }
    },
    {
      "cell_type": "code",
      "source": [
        "#Using a single column’s values to select data:\n",
        "df[df['A'] > 0.7]"
      ],
      "metadata": {
        "id": "ij7c0rKjaGLr"
      },
      "execution_count": null,
      "outputs": []
    },
    {
      "cell_type": "code",
      "source": [
        "#Selecting values from a DataFrame where a boolean condition is met:\n",
        "df[df > 0.5]"
      ],
      "metadata": {
        "id": "1nMh6vILaQQH"
      },
      "execution_count": null,
      "outputs": []
    },
    {
      "cell_type": "code",
      "source": [
        "#Using the isin() method for filtering:\n",
        "df2 = df.copy()\n",
        "df2['E'] = [\"one\", \"one\", \"two\", \"three\", \"four\", \"three\"]\n",
        "df2"
      ],
      "metadata": {
        "id": "6ICadsNsazNH"
      },
      "execution_count": null,
      "outputs": []
    },
    {
      "cell_type": "code",
      "source": [
        "df2[df2[\"E\"].isin([\"two\", \"four\"])]"
      ],
      "metadata": {
        "id": "BUS3Xk6vbEV_"
      },
      "execution_count": null,
      "outputs": []
    },
    {
      "cell_type": "markdown",
      "source": [
        "##Setting"
      ],
      "metadata": {
        "id": "ZwIfpiBCcbjv"
      }
    },
    {
      "cell_type": "code",
      "source": [
        "#Setting a new column automatically aligns the data by the indexes:\n",
        "s1 = pd.Series([1, 2, 3, 4, 5, 6], index=pd.date_range(\"20000101\", periods=6))\n",
        "df[\"F\"] = s1"
      ],
      "metadata": {
        "id": "tzXC8M5hbE-x"
      },
      "execution_count": null,
      "outputs": []
    },
    {
      "cell_type": "code",
      "source": [
        "df"
      ],
      "metadata": {
        "id": "ro9YfWyXcgTw"
      },
      "execution_count": null,
      "outputs": []
    },
    {
      "cell_type": "code",
      "source": [
        "#Setting values by label:\n",
        "df.loc[dates[0],'A'] = 0.333333\n",
        "df"
      ],
      "metadata": {
        "id": "PIC0cCdscpkV"
      },
      "execution_count": null,
      "outputs": []
    },
    {
      "cell_type": "code",
      "source": [
        "#Setting values by position:\n",
        "df.iat[0,3] = .444444\n",
        "df"
      ],
      "metadata": {
        "id": "g5xvLCt9c9MJ"
      },
      "execution_count": null,
      "outputs": []
    },
    {
      "cell_type": "code",
      "source": [
        "#Setting by assigning with a NumPy array:\n",
        "df.loc[:,'D'] = np.array([5] * len(df))\n",
        "df"
      ],
      "metadata": {
        "id": "DfqyrtMfdMix"
      },
      "execution_count": null,
      "outputs": []
    },
    {
      "cell_type": "code",
      "source": [
        "#A where operation with setting:\n",
        "df2 = df.copy()\n",
        "df2[df2 > 0] = -df2\n",
        "df2"
      ],
      "metadata": {
        "id": "ZiD2vBrAd2TN"
      },
      "execution_count": null,
      "outputs": []
    },
    {
      "cell_type": "code",
      "source": [
        ""
      ],
      "metadata": {
        "id": "rnwJrPVAgCoN"
      },
      "execution_count": null,
      "outputs": []
    },
    {
      "cell_type": "markdown",
      "source": [
        "#Missing data"
      ],
      "metadata": {
        "id": "-I4idMt_xSLf"
      }
    },
    {
      "cell_type": "markdown",
      "source": [
        "pandas primarily uses the value `np.nan` to represent missing data. It is by default not included in computations. See the Missing Data section.\n",
        "\n"
      ],
      "metadata": {
        "id": "bcSofTEMxfoL"
      }
    },
    {
      "cell_type": "code",
      "source": [
        "#Reindexing allows you to change/add/delete the index on a specified axis. This returns a copy of the data:\n",
        "df1 = df.reindex(index=dates[0:4], columns=list(df.columns) + [\"E\"])\n",
        "df1.loc[dates[0] : dates[1], \"E\"] = 1\n",
        "\n",
        "df1"
      ],
      "metadata": {
        "id": "hycqHAWLxaET"
      },
      "execution_count": null,
      "outputs": []
    },
    {
      "cell_type": "code",
      "source": [
        "#To drop any rows that have missing data:\n",
        "df1.dropna(how=\"any\")"
      ],
      "metadata": {
        "id": "CW_pj3dw0egG"
      },
      "execution_count": null,
      "outputs": []
    },
    {
      "cell_type": "code",
      "source": [
        "#Filling missing data:\n",
        "df1.fillna(5)"
      ],
      "metadata": {
        "id": "6LnLvz3b08lq"
      },
      "execution_count": null,
      "outputs": []
    },
    {
      "cell_type": "code",
      "source": [
        "#to get the boolean mask where values are nan:\n",
        "df1.isna()"
      ],
      "metadata": {
        "id": "JttEAEH21His"
      },
      "execution_count": null,
      "outputs": []
    },
    {
      "cell_type": "markdown",
      "source": [
        "#Operations"
      ],
      "metadata": {
        "id": "ETiqrF-f1XGC"
      }
    },
    {
      "cell_type": "markdown",
      "source": [
        "##Stats"
      ],
      "metadata": {
        "id": "6lecDIpQ1b8s"
      }
    },
    {
      "cell_type": "markdown",
      "source": [
        "Operations in general exclude missing data"
      ],
      "metadata": {
        "id": "C4LI31Tf1hxY"
      }
    },
    {
      "cell_type": "code",
      "source": [
        "df.mean()"
      ],
      "metadata": {
        "id": "HkiFPsO01RJm"
      },
      "execution_count": null,
      "outputs": []
    },
    {
      "cell_type": "code",
      "source": [
        "#Same operation on the other axis:\n",
        "df.mean(axis=1)"
      ],
      "metadata": {
        "id": "6IubLQ6n1l6g"
      },
      "execution_count": null,
      "outputs": []
    },
    {
      "cell_type": "code",
      "source": [
        "#Operating with objects that have different dimensionality and need alignment. \n",
        "#In addition, pandas automatically broadcasts along the specified dimension:\n",
        "\n",
        "s = pd.Series([1, 3, 5, np.nan, 6, 8], index=dates).shift(2)\n",
        "s"
      ],
      "metadata": {
        "id": "awncffug1wXf"
      },
      "execution_count": null,
      "outputs": []
    },
    {
      "cell_type": "code",
      "source": [
        "df"
      ],
      "metadata": {
        "id": "FbCeHMcb2WTG"
      },
      "execution_count": null,
      "outputs": []
    },
    {
      "cell_type": "code",
      "source": [
        "df.sub(s,axis='index')"
      ],
      "metadata": {
        "id": "NCapt9UL1_yt"
      },
      "execution_count": null,
      "outputs": []
    },
    {
      "cell_type": "code",
      "source": [
        ""
      ],
      "metadata": {
        "id": "nCRtwH722PKA"
      },
      "execution_count": null,
      "outputs": []
    },
    {
      "cell_type": "markdown",
      "source": [
        "## Apply"
      ],
      "metadata": {
        "id": "Vc0biaBF2s4X"
      }
    },
    {
      "cell_type": "code",
      "source": [
        "#Applying functions to the data:\n",
        "df.apply(np.cumsum,)"
      ],
      "metadata": {
        "id": "VexYDEiZ2uMu"
      },
      "execution_count": null,
      "outputs": []
    },
    {
      "cell_type": "code",
      "source": [
        "df.apply(lambda x: x.max() - x.min(),axis=1)"
      ],
      "metadata": {
        "id": "NlTK0zdB22Jc"
      },
      "execution_count": null,
      "outputs": []
    },
    {
      "cell_type": "markdown",
      "source": [
        "## Histogramming"
      ],
      "metadata": {
        "id": "O6DtpTF43I5D"
      }
    },
    {
      "cell_type": "code",
      "source": [
        "s = pd.Series(np.random.randint(0, 7, size=10))\n",
        "s"
      ],
      "metadata": {
        "id": "8Fklqgnr26Ir"
      },
      "execution_count": null,
      "outputs": []
    },
    {
      "cell_type": "code",
      "source": [
        "s.value_counts()"
      ],
      "metadata": {
        "id": "hNEuZHwl3L3K"
      },
      "execution_count": null,
      "outputs": []
    },
    {
      "cell_type": "markdown",
      "source": [
        "##String Methods"
      ],
      "metadata": {
        "id": "vp-JBD-k3hUU"
      }
    },
    {
      "cell_type": "markdown",
      "source": [
        "Series is equipped with a set of string processing methods in the str attribute that make it easy to operate on each element of the array, as in the code snippet below. Note that pattern-matching in str generally uses regular expressions by default (and in some cases always uses them). See more at Vectorized String Methods."
      ],
      "metadata": {
        "id": "4XSsv45n3l9u"
      }
    },
    {
      "cell_type": "code",
      "source": [
        "s = pd.Series([\"A\", \"B\", \"C\", \"Aaba\", \"Baca\", np.nan, \"CABA\", \"dog\", \"cat\"])"
      ],
      "metadata": {
        "id": "PLn29noT3MYC"
      },
      "execution_count": null,
      "outputs": []
    },
    {
      "cell_type": "code",
      "source": [
        "s.str.lower()"
      ],
      "metadata": {
        "id": "KwrPYUsO3pC0"
      },
      "execution_count": null,
      "outputs": []
    },
    {
      "cell_type": "code",
      "source": [
        ""
      ],
      "metadata": {
        "id": "40mPvG3S3tv9"
      },
      "execution_count": null,
      "outputs": []
    },
    {
      "cell_type": "markdown",
      "source": [
        "#Merge"
      ],
      "metadata": {
        "id": "pwdRAoYw50ZA"
      }
    },
    {
      "cell_type": "markdown",
      "source": [
        "##Concat"
      ],
      "metadata": {
        "id": "8Sse0b8T54Sf"
      }
    },
    {
      "cell_type": "code",
      "source": [
        "df = pd.DataFrame(np.random.randn(10, 4))\n",
        "df"
      ],
      "metadata": {
        "id": "km18zCZE51i9"
      },
      "execution_count": null,
      "outputs": []
    },
    {
      "cell_type": "code",
      "source": [
        "#break it into pieces\n",
        "pieces = [df[:3], df[3:7], df[7:]]\n",
        "pieces"
      ],
      "metadata": {
        "id": "qHWysLYy57N6"
      },
      "execution_count": null,
      "outputs": []
    },
    {
      "cell_type": "code",
      "source": [
        "pd.concat(pieces)"
      ],
      "metadata": {
        "id": "VRjGw57C6IG3"
      },
      "execution_count": null,
      "outputs": []
    },
    {
      "cell_type": "markdown",
      "source": [
        "**Note:**\n",
        "\n",
        "Adding a column to a DataFrame is relatively fast. However, adding a row requires a copy, and may be expensive. We recommend passing a pre-built list of records to the DataFrame constructor instead of building a DataFrame by iteratively appending records to it."
      ],
      "metadata": {
        "id": "8JG6E-VB6bZW"
      }
    },
    {
      "cell_type": "markdown",
      "source": [
        "##Join"
      ],
      "metadata": {
        "id": "E8p1nXA66xUM"
      }
    },
    {
      "cell_type": "code",
      "source": [
        "left = pd.DataFrame({\"key\": [\"foo\", \"foo\"], \"lval\": [1, 2]})\n",
        "left"
      ],
      "metadata": {
        "id": "-m5Ml2iB6RdQ"
      },
      "execution_count": null,
      "outputs": []
    },
    {
      "cell_type": "code",
      "source": [
        "right = pd.DataFrame({\"key\": [\"foo\", \"foo\"], \"rval\": [4, 5]})\n",
        "right"
      ],
      "metadata": {
        "id": "01P9Fzb77AOc"
      },
      "execution_count": null,
      "outputs": []
    },
    {
      "cell_type": "code",
      "source": [
        "pd.merge(left, right, on=\"key\")"
      ],
      "metadata": {
        "id": "NUvYdOIT7BX7"
      },
      "execution_count": null,
      "outputs": []
    },
    {
      "cell_type": "code",
      "source": [
        "#Another example that can be given is:\n",
        "left = pd.DataFrame({\"key\": [\"foo\", \"bar\"], \"lval\": [1, 2]})\n",
        "left"
      ],
      "metadata": {
        "id": "X3j2QJxo7IFX"
      },
      "execution_count": null,
      "outputs": []
    },
    {
      "cell_type": "code",
      "source": [
        "right = pd.DataFrame({\"key\": [\"foo\", \"bar\"], \"rval\": [4, 5]})\n",
        "right"
      ],
      "metadata": {
        "id": "uOolyNzg7YEm"
      },
      "execution_count": null,
      "outputs": []
    },
    {
      "cell_type": "code",
      "source": [
        "pd.merge(left, right, on=\"key\")"
      ],
      "metadata": {
        "id": "jcP46uiR7eIu"
      },
      "execution_count": null,
      "outputs": []
    },
    {
      "cell_type": "markdown",
      "source": [
        "#Grouping"
      ],
      "metadata": {
        "id": "DTKnznsZ7pHh"
      }
    },
    {
      "cell_type": "markdown",
      "source": [
        "By **“group by”** we are referring to a process involving one or more of the following steps:\n",
        "\n",
        " - **Splitting** the data into groups based on some criteria\n",
        " - **Applying** a function to each group independently\n",
        " - **Combining** the results into a data structure"
      ],
      "metadata": {
        "id": "LePnfDcJ7t5O"
      }
    },
    {
      "cell_type": "code",
      "source": [
        "df = pd.DataFrame(\n",
        "    {\n",
        "        \"A\": [\"foo\", \"bar\", \"foo\", \"bar\", \"foo\", \"bar\", \"foo\", \"foo\"],\n",
        "        \"B\": [\"one\", \"one\", \"two\", \"three\", \"two\", \"two\", \"one\", \"three\"],\n",
        "        \"C\": np.random.randn(8),\n",
        "        \"D\": np.random.randn(8),\n",
        "    }\n",
        ")\n",
        "\n",
        "df"
      ],
      "metadata": {
        "id": "ysjsyH5P7hKF"
      },
      "execution_count": null,
      "outputs": []
    },
    {
      "cell_type": "code",
      "source": [
        "#Grouping and then applying the sum() function to the resulting groups:\n",
        "df.groupby('A').sum()"
      ],
      "metadata": {
        "id": "B9gFY_vF8W6e"
      },
      "execution_count": null,
      "outputs": []
    },
    {
      "cell_type": "code",
      "source": [
        "#Grouping by multiple columns forms a hierarchical index, and again we can apply the sum() function:\n",
        "df.groupby([\"A\",'B']).sum()"
      ],
      "metadata": {
        "id": "blnMcGo_8Bmb"
      },
      "execution_count": null,
      "outputs": []
    },
    {
      "cell_type": "markdown",
      "source": [
        "#Reshaping"
      ],
      "metadata": {
        "id": "YvhE160O8yAZ"
      }
    },
    {
      "cell_type": "code",
      "source": [
        "tuples = list(\n",
        "    zip(\n",
        "        *[\n",
        "            [\"bar\", \"bar\", \"baz\", \"baz\", \"foo\", \"foo\", \"qux\", \"qux\"],\n",
        "            [\"one\", \"two\", \"one\", \"two\", \"one\", \"two\", \"one\", \"two\"],\n",
        "        ]\n",
        "    )\n",
        ")\n",
        "tuples"
      ],
      "metadata": {
        "id": "EGkPouFS8OOu"
      },
      "execution_count": null,
      "outputs": []
    },
    {
      "cell_type": "code",
      "source": [
        "index = pd.MultiIndex.from_tuples(tuples, names=[\"first\", \"second\"])\n",
        "df = pd.DataFrame(np.random.randn(8, 2), index=index, columns=[\"A\", \"B\"])\n",
        "df"
      ],
      "metadata": {
        "id": "y2Kp3ubV81V5"
      },
      "execution_count": null,
      "outputs": []
    },
    {
      "cell_type": "code",
      "source": [
        "df2 = df[:4]\n",
        "df2"
      ],
      "metadata": {
        "id": "2UbnJxeG9CC9"
      },
      "execution_count": null,
      "outputs": []
    },
    {
      "cell_type": "code",
      "source": [
        "#The stack() method “compresses” a level in the DataFrame’s columns:\n",
        "stacked = df2.stack()\n",
        "stacked"
      ],
      "metadata": {
        "id": "VBsJV8-P95ll"
      },
      "execution_count": null,
      "outputs": []
    },
    {
      "cell_type": "code",
      "source": [
        "#With a “stacked” DataFrame or Series (having a MultiIndex as the index), the inverse operation of stack() is unstack(), which by default unstacks the last level:\n",
        "stacked.unstack()"
      ],
      "metadata": {
        "id": "YTsYCoTJ-TYY"
      },
      "execution_count": null,
      "outputs": []
    },
    {
      "cell_type": "code",
      "source": [
        "stacked.unstack(1)"
      ],
      "metadata": {
        "id": "bQO-xHMl-ioJ"
      },
      "execution_count": null,
      "outputs": []
    },
    {
      "cell_type": "code",
      "source": [
        "stacked.unstack(0)"
      ],
      "metadata": {
        "id": "HQ5Os7ZP-pvD"
      },
      "execution_count": null,
      "outputs": []
    },
    {
      "cell_type": "markdown",
      "source": [
        "##Pivot tables"
      ],
      "metadata": {
        "id": "G0-DpWdv-5-1"
      }
    },
    {
      "cell_type": "code",
      "source": [
        "df = pd.DataFrame(\n",
        "    {\n",
        "        \"A\": [\"one\", \"one\", \"two\", \"three\"] * 3,\n",
        "        \"B\": [\"A\", \"B\", \"C\"] * 4,\n",
        "        \"C\": [\"foo\", \"foo\", \"foo\", \"bar\", \"bar\", \"bar\"] * 2,\n",
        "        \"D\": np.random.randn(12),\n",
        "        \"E\": np.random.randn(12),\n",
        "    }\n",
        ")\n",
        "df"
      ],
      "metadata": {
        "id": "g_hVRXxQ-sBr"
      },
      "execution_count": null,
      "outputs": []
    },
    {
      "cell_type": "code",
      "source": [
        "pd.pivot_table(df, values=\"D\", index=[\"A\", \"B\"], columns=[\"C\"])"
      ],
      "metadata": {
        "id": "W12EOf0C_Kf_"
      },
      "execution_count": null,
      "outputs": []
    },
    {
      "cell_type": "code",
      "source": [
        "pd.pivot(df,index=['A','B'],columns='C',values='D')"
      ],
      "metadata": {
        "id": "3I8Ub3m6_feA"
      },
      "execution_count": null,
      "outputs": []
    },
    {
      "cell_type": "code",
      "source": [
        ""
      ],
      "metadata": {
        "id": "3iOWzaR1_5WF"
      },
      "execution_count": null,
      "outputs": []
    }
  ]
}