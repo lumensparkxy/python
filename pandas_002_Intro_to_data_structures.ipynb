{
  "nbformat": 4,
  "nbformat_minor": 0,
  "metadata": {
    "colab": {
      "name": "pandas_002_Intro_to_data_structures.ipynb",
      "private_outputs": true,
      "provenance": [],
      "authorship_tag": "ABX9TyOrHRr3Y++wgOrBrJxjh/Bd",
      "include_colab_link": true
    },
    "kernelspec": {
      "name": "python3",
      "display_name": "Python 3"
    },
    "language_info": {
      "name": "python"
    }
  },
  "cells": [
    {
      "cell_type": "markdown",
      "metadata": {
        "id": "view-in-github",
        "colab_type": "text"
      },
      "source": [
        "<a href=\"https://colab.research.google.com/github/maswadkar/python/blob/work_in_progress/pandas_002_Intro_to_data_structures.ipynb\" target=\"_parent\"><img src=\"https://colab.research.google.com/assets/colab-badge.svg\" alt=\"Open In Colab\"/></a>"
      ]
    },
    {
      "cell_type": "markdown",
      "source": [
        "#[Intro to data structures](https://pandas.pydata.org/docs/user_guide/dsintro.html)"
      ],
      "metadata": {
        "id": "NZLe1MRhtQRy"
      }
    },
    {
      "cell_type": "code",
      "execution_count": null,
      "metadata": {
        "id": "Epl9X_g9Eu9j"
      },
      "outputs": [],
      "source": [
        "import numpy as np\n",
        "import pandas as pd\n",
        "pd.__version__"
      ]
    },
    {
      "cell_type": "markdown",
      "source": [
        "<p>We’ll start with a quick, non-comprehensive overview of the fundamental data\n",
        "structures in pandas to get you started. The fundamental behavior about data\n",
        "types, indexing, and axis labeling / alignment apply across all of the\n",
        "objects. To get started, import NumPy and load pandas into your namespace:</p>"
      ],
      "metadata": {
        "id": "kbf1gMwZfnNL"
      }
    },
    {
      "cell_type": "markdown",
      "source": [
        "<p>Here is a basic tenet to keep in mind: <strong>data alignment is intrinsic</strong>. The link\n",
        "between labels and data will not be broken unless done so explicitly by you.</p>\n",
        "<p>We’ll give a brief intro to the data structures, then consider all of the broad\n",
        "categories of functionality and methods in separate sections.</p>"
      ],
      "metadata": {
        "id": "QBmJv1fGf5Hi"
      }
    },
    {
      "cell_type": "markdown",
      "source": [
        "#Series"
      ],
      "metadata": {
        "id": "96KNWwVl9Q0M"
      }
    },
    {
      "cell_type": "markdown",
      "source": [
        "<p><a class=\"reference internal\" href=\"../reference/api/pandas.Series.html#pandas.Series\" title=\"pandas.Series\"><code class=\"xref py py-class docutils literal notranslate\"><span class=\"pre\">Series</span></code></a> is a one-dimensional labeled array capable of holding any data\n",
        "type (integers, strings, floating point numbers, Python objects, etc.). The axis\n",
        "labels are collectively referred to as the <strong>index</strong>. The basic method to create a Series is to call:</p>"
      ],
      "metadata": {
        "id": "ULHur3Jq9bpI"
      }
    },
    {
      "cell_type": "code",
      "source": [
        "#s = pd.Series(data, index=index)"
      ],
      "metadata": {
        "id": "2ZMeEZ8JE3nY"
      },
      "execution_count": null,
      "outputs": []
    },
    {
      "cell_type": "markdown",
      "source": [
        "<p>Here, <code class=\"docutils literal notranslate\"><span class=\"pre\">data</span></code> can be many different things:</p>\n",
        "<ul class=\"simple\">\n",
        "<li><p>a Python dict</p></li>\n",
        "<li><p>an ndarray</p></li>\n",
        "<li><p>a scalar value (like 5)</p></li>\n",
        "</ul>\n",
        "<p>The passed <strong>index</strong> is a list of axis labels. Thus, this separates into a few\n",
        "cases depending on what <strong>data is</strong>:</p>\n",
        "<p>If <code class=\"docutils literal notranslate\"><span class=\"pre\">data</span></code> is an ndarray, <strong>index</strong> must be the same length as <strong>data</strong>. If no\n",
        "index is passed, one will be created having values <code class=\"docutils literal notranslate\"><span class=\"pre\">[0,</span> <span class=\"pre\">...,</span> <span class=\"pre\">len(data)</span> <span class=\"pre\">-</span> <span class=\"pre\">1]</span></code>.</p>"
      ],
      "metadata": {
        "id": "vqrjvuNS9s28"
      }
    },
    {
      "cell_type": "code",
      "source": [
        "s = pd.Series(np.random.randn(5), index=[\"a\", \"b\", \"c\", \"d\", \"e\"])\n",
        "s"
      ],
      "metadata": {
        "id": "QcVz1_KdgcKg"
      },
      "execution_count": null,
      "outputs": []
    },
    {
      "cell_type": "code",
      "source": [
        "s.index"
      ],
      "metadata": {
        "id": "qgV63OLh-RFa"
      },
      "execution_count": null,
      "outputs": []
    },
    {
      "cell_type": "code",
      "source": [
        "pd.Series(np.random.randn(5))"
      ],
      "metadata": {
        "id": "JyJsefWC-Vkr"
      },
      "execution_count": null,
      "outputs": []
    },
    {
      "cell_type": "markdown",
      "source": [
        "<div class=\"admonition note\">\n",
        "<p class=\"admonition-title\">Note</p>\n",
        "<p>pandas supports non-unique index values. If an operation\n",
        "that does not support duplicate index values is attempted, an exception\n",
        "will be raised at that time. The reason for being lazy is nearly all performance-based\n",
        "(there are many instances in computations, like parts of GroupBy, where the index\n",
        "is not used).</p>\n",
        "</div>"
      ],
      "metadata": {
        "id": "u7wMsQzvhd7H"
      }
    },
    {
      "cell_type": "markdown",
      "source": [
        "<p><strong>From dict</strong></p>\n",
        "<p>Series can be instantiated from dicts:</p>"
      ],
      "metadata": {
        "id": "FBh171ov-fFV"
      }
    },
    {
      "cell_type": "code",
      "source": [
        "d = {\"b\": 1, \"a\": 0, \"c\": 2}\n",
        "pd.Series(d)"
      ],
      "metadata": {
        "id": "Vz6wyG-ggfoK"
      },
      "execution_count": null,
      "outputs": []
    },
    {
      "cell_type": "markdown",
      "source": [
        "<div class=\"admonition note\">\n",
        "<p class=\"admonition-title\">Note</p>\n",
        "<p>When the data is a dict, and an index is not passed, the <code class=\"docutils literal notranslate\"><span class=\"pre\">Series</span></code> index\n",
        "will be ordered by the dict’s insertion order, if you’re using Python\n",
        "version &gt;= 3.6 and pandas version &gt;= 0.23.</p>\n",
        "<p>If you’re using Python &lt; 3.6 or pandas &lt; 0.23, and an index is not passed,\n",
        "the <code class=\"docutils literal notranslate\"><span class=\"pre\">Series</span></code> index will be the lexically ordered list of dict keys.</p>\n",
        "</div>\n",
        "<p>In the example above, if you were on a Python version lower than 3.6 or a\n",
        "pandas version lower than 0.23, the <code class=\"docutils literal notranslate\"><span class=\"pre\">Series</span></code> would be ordered by the lexical\n",
        "order of the dict keys (i.e. <code class=\"docutils literal notranslate\"><span class=\"pre\">['a',</span> <span class=\"pre\">'b',</span> <span class=\"pre\">'c']</span></code> rather than <code class=\"docutils literal notranslate\"><span class=\"pre\">['b',</span> <span class=\"pre\">'a',</span> <span class=\"pre\">'c']</span></code>).</p>\n",
        "<p>If an index is passed, the values in data corresponding to the labels in the\n",
        "index will be pulled out.</p>"
      ],
      "metadata": {
        "id": "E9y_Yb02-r_z"
      }
    },
    {
      "cell_type": "code",
      "source": [
        "d = {\"a\": 0.0, \"b\": 1.0, \"c\": 2.0}\n",
        "pd.Series(d)"
      ],
      "metadata": {
        "id": "wBt4qFH--n5z"
      },
      "execution_count": null,
      "outputs": []
    },
    {
      "cell_type": "code",
      "source": [
        "pd.Series(d, index=[\"b\", \"c\", \"d\", \"a\"])"
      ],
      "metadata": {
        "id": "U5Ib4Fho_ALQ"
      },
      "execution_count": null,
      "outputs": []
    },
    {
      "cell_type": "markdown",
      "source": [
        "<div class=\"admonition note\">\n",
        "<p class=\"admonition-title\">Note</p>\n",
        "<p>NaN (not a number) is the standard missing data marker used in pandas.</p>\n",
        "</div>"
      ],
      "metadata": {
        "id": "aQdpwk2z_Emx"
      }
    },
    {
      "cell_type": "markdown",
      "source": [
        "<p><strong>From scalar value</strong></p>\n",
        "<p>If <code class=\"docutils literal notranslate\"><span class=\"pre\">data</span></code> is a scalar value, an index must be\n",
        "provided. The value will be repeated to match the length of <strong>index</strong>.</p>"
      ],
      "metadata": {
        "id": "MNpdU8oO_MZs"
      }
    },
    {
      "cell_type": "code",
      "source": [
        "pd.Series(5.0, index=[\"a\", \"b\", \"c\", \"d\", \"e\"])"
      ],
      "metadata": {
        "id": "32kYNUxO_BFN"
      },
      "execution_count": null,
      "outputs": []
    },
    {
      "cell_type": "markdown",
      "source": [
        "##Series is dict-like"
      ],
      "metadata": {
        "id": "lhzKjtw-_bu7"
      }
    },
    {
      "cell_type": "markdown",
      "source": [
        "<p>A Series is like a fixed-size dict in that you can get and set values by index\n",
        "label:</p>"
      ],
      "metadata": {
        "id": "kxvDx1Wr_jEd"
      }
    },
    {
      "cell_type": "code",
      "source": [
        "s[\"a\"]"
      ],
      "metadata": {
        "id": "ufpeumu-_VSQ"
      },
      "execution_count": null,
      "outputs": []
    },
    {
      "cell_type": "code",
      "source": [
        "s[\"e\"] = 12.0"
      ],
      "metadata": {
        "id": "rUeCxuYf_lW6"
      },
      "execution_count": null,
      "outputs": []
    },
    {
      "cell_type": "code",
      "source": [
        "s"
      ],
      "metadata": {
        "id": "w62FBALo_nIJ"
      },
      "execution_count": null,
      "outputs": []
    },
    {
      "cell_type": "code",
      "source": [
        "\"e\" in s"
      ],
      "metadata": {
        "id": "p-xSxLMl_ozs"
      },
      "execution_count": null,
      "outputs": []
    },
    {
      "cell_type": "code",
      "source": [
        "\"f\" in s"
      ],
      "metadata": {
        "id": "NmIOgdaY_rYN"
      },
      "execution_count": null,
      "outputs": []
    },
    {
      "cell_type": "code",
      "source": [
        "#If a label is not contained, an exception is raised:\n",
        "s['f']"
      ],
      "metadata": {
        "id": "lVzsvem4_s3I"
      },
      "execution_count": null,
      "outputs": []
    },
    {
      "cell_type": "markdown",
      "source": [
        "<p>Using the <code class=\"docutils literal notranslate\"><span class=\"pre\">get</span></code> method, a missing label will return None or specified default:</p>"
      ],
      "metadata": {
        "id": "yrHdKuLNAAOF"
      }
    },
    {
      "cell_type": "code",
      "source": [
        "s.get(\"f\")"
      ],
      "metadata": {
        "id": "O12TFaiC_21D"
      },
      "execution_count": null,
      "outputs": []
    },
    {
      "cell_type": "code",
      "source": [
        "s.get(\"f\", np.nan)"
      ],
      "metadata": {
        "id": "9De16H8sAC32"
      },
      "execution_count": null,
      "outputs": []
    },
    {
      "cell_type": "markdown",
      "source": [
        "##Vectorized operations and label alignment with Series"
      ],
      "metadata": {
        "id": "r-ZFDs1MEl1w"
      }
    },
    {
      "cell_type": "markdown",
      "source": [
        "<p>When working with raw NumPy arrays, looping through value-by-value is usually\n",
        "not necessary. The same is true when working with Series in pandas.\n",
        "Series can also be passed into most NumPy methods expecting an ndarray.</p>"
      ],
      "metadata": {
        "id": "SHkfF_TvEtt1"
      }
    },
    {
      "cell_type": "code",
      "source": [
        "s + s"
      ],
      "metadata": {
        "id": "augbv3I9AFWC"
      },
      "execution_count": null,
      "outputs": []
    },
    {
      "cell_type": "code",
      "source": [
        "s * 2"
      ],
      "metadata": {
        "id": "f8TQZ79hEwXE"
      },
      "execution_count": null,
      "outputs": []
    },
    {
      "cell_type": "code",
      "source": [
        "np.exp(s)"
      ],
      "metadata": {
        "id": "uFplDIUUEzaa"
      },
      "execution_count": null,
      "outputs": []
    },
    {
      "cell_type": "markdown",
      "source": [
        "A key difference between Series and ndarray is that operations between Series automatically align the data based on label. Thus, you can write computations without giving consideration to whether the Series involved have the same labels.\n"
      ],
      "metadata": {
        "id": "fQOFJ6tsGmDE"
      }
    },
    {
      "cell_type": "code",
      "source": [
        "s[1:] + s[:-1]\n"
      ],
      "metadata": {
        "id": "8HeUdZGME79b"
      },
      "execution_count": null,
      "outputs": []
    },
    {
      "cell_type": "code",
      "source": [
        "s[1:]"
      ],
      "metadata": {
        "id": "qMM11FmqGpbw"
      },
      "execution_count": null,
      "outputs": []
    },
    {
      "cell_type": "markdown",
      "source": [
        "<p>The result of an operation between unaligned Series will have the <strong>union</strong> of\n",
        "the indexes involved. If a label is not found in one Series or the other, the\n",
        "result will be marked as missing <code class=\"docutils literal notranslate\"><span class=\"pre\">NaN</span></code>. Being able to write code without doing\n",
        "any explicit data alignment grants immense freedom and flexibility in\n",
        "interactive data analysis and research. The integrated data alignment features\n",
        "of the pandas data structures set pandas apart from the majority of related\n",
        "tools for working with labeled data.</p>"
      ],
      "metadata": {
        "id": "-TnEL0S_HF1b"
      }
    },
    {
      "cell_type": "markdown",
      "source": [
        "<div class=\"admonition note\">\n",
        "<p class=\"admonition-title\">Note</p>\n",
        "<p>In general, we chose to make the default result of operations between\n",
        "differently indexed objects yield the <strong>union</strong> of the indexes in order to\n",
        "avoid loss of information. Having an index label, though the data is\n",
        "missing, is typically important information as part of a computation. You\n",
        "of course have the option of dropping labels with missing data via the\n",
        "<strong>dropna</strong> function.</p>\n",
        "</div>"
      ],
      "metadata": {
        "id": "Hg89SR8DHJQL"
      }
    },
    {
      "cell_type": "markdown",
      "source": [
        "##Name attribute"
      ],
      "metadata": {
        "id": "sXWBa9_qHM2G"
      }
    },
    {
      "cell_type": "code",
      "source": [
        "#Series can also have a name attribute:\n",
        "s = pd.Series(np.random.randn(5), name=\"something\")\n",
        "s"
      ],
      "metadata": {
        "id": "QtWMgHv1GwFI"
      },
      "execution_count": null,
      "outputs": []
    },
    {
      "cell_type": "code",
      "source": [
        "s.name"
      ],
      "metadata": {
        "id": "FkQCZFKxHQZJ"
      },
      "execution_count": null,
      "outputs": []
    },
    {
      "cell_type": "code",
      "source": [
        "s2 = s.rename('someothername')"
      ],
      "metadata": {
        "id": "us53v5iTIXiT"
      },
      "execution_count": null,
      "outputs": []
    },
    {
      "cell_type": "code",
      "source": [
        "print(f'{s.name}  {s2.name}')"
      ],
      "metadata": {
        "id": "tSVjxkAoIbCN"
      },
      "execution_count": null,
      "outputs": []
    },
    {
      "cell_type": "code",
      "source": [
        ""
      ],
      "metadata": {
        "id": "ITIMfDMmIksp"
      },
      "execution_count": null,
      "outputs": []
    }
  ]
}